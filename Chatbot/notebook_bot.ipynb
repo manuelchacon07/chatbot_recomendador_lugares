{
 "cells": [
  {
   "cell_type": "markdown",
   "metadata": {},
   "source": [
    "PARTE DE AIML"
   ]
  },
  {
   "cell_type": "markdown",
   "metadata": {},
   "source": [
    "Instalar programy, que es una implementación completa del estándar AIML"
   ]
  },
  {
   "cell_type": "code",
   "execution_count": null,
   "metadata": {},
   "outputs": [],
   "source": [
    "pip install programy"
   ]
  },
  {
   "cell_type": "markdown",
   "metadata": {},
   "source": [
    "Utilizaremos EmbeddedDataFileBot, un bot que permite cargar la base de conocimiento desde archivos AIML externos"
   ]
  },
  {
   "cell_type": "code",
   "execution_count": 1,
   "metadata": {},
   "outputs": [],
   "source": [
    "from programy.clients.embed.datafile import EmbeddedDataFileBot"
   ]
  },
  {
   "cell_type": "markdown",
   "metadata": {},
   "source": [
    "En el argumento 'files' del constructor se indica el nombre del directorio donde están los archivos con extensión .aiml que va a cargar"
   ]
  },
  {
   "cell_type": "code",
   "execution_count": 16,
   "metadata": {},
   "outputs": [],
   "source": [
    "chatbot = EmbeddedDataFileBot(files={'aiml': 'recomendador_sitios.aiml'}, defaults=True)"
   ]
  },
  {
   "cell_type": "markdown",
   "metadata": {},
   "source": [
    "Accedemos al bot creando un bucle"
   ]
  },
  {
   "cell_type": "code",
   "execution_count": null,
   "metadata": {},
   "outputs": [],
   "source": [
    "try:\n",
    "    while True:\n",
    "        print (chatbot.ask_question(input('>')))\n",
    "except:\n",
    "    pass"
   ]
  },
  {
   "cell_type": "markdown",
   "metadata": {},
   "source": [
    "################################################################################################################################################################################################"
   ]
  },
  {
   "cell_type": "markdown",
   "metadata": {},
   "source": [
    "PARTE DE ML"
   ]
  },
  {
   "cell_type": "markdown",
   "metadata": {},
   "source": [
    "instalamos requests"
   ]
  },
  {
   "cell_type": "code",
   "execution_count": 1,
   "metadata": {},
   "outputs": [
    {
     "name": "stdout",
     "output_type": "stream",
     "text": [
      "Requirement already satisfied: requests in /home/machde/anaconda3/lib/python3.9/site-packages (2.22.0)\n",
      "Requirement already satisfied: idna<2.9,>=2.5 in /home/machde/anaconda3/lib/python3.9/site-packages (from requests) (2.8)\n",
      "Requirement already satisfied: certifi>=2017.4.17 in /home/machde/anaconda3/lib/python3.9/site-packages (from requests) (2021.10.8)\n",
      "Requirement already satisfied: urllib3!=1.25.0,!=1.25.1,<1.26,>=1.21.1 in /home/machde/anaconda3/lib/python3.9/site-packages (from requests) (1.25.11)\n",
      "Requirement already satisfied: chardet<3.1.0,>=3.0.2 in /home/machde/anaconda3/lib/python3.9/site-packages (from requests) (3.0.4)\n",
      "Note: you may need to restart the kernel to use updated packages.\n"
     ]
    }
   ],
   "source": [
    "pip install requests"
   ]
  },
  {
   "cell_type": "code",
   "execution_count": 4,
   "metadata": {},
   "outputs": [
    {
     "name": "stdout",
     "output_type": "stream",
     "text": [
      "Hola, soy bot_recomendador, ¿que te gustaria hacer?\n",
      "<bot_recomendador> creo que te gustaria ir al teatro con una probabilidad de 100%\n",
      "{'class_name': 'teatro', 'confidence': 100, 'classifierTimestamp': '2022-01-21T10:46:04.948Z'}\n",
      "teatro\n"
     ]
    },
    {
     "ename": "HTTPError",
     "evalue": "400 Client Error: Bad Request for url: https://machinelearningforkids.co.uk/api/scratch/c15dd690-749e-11ec-b689-8174d92278c0b85eb195-6619-4480-a5d2-450c8e865da2/classify?data=",
     "output_type": "error",
     "traceback": [
      "\u001b[0;31m---------------------------------------------------------------------------\u001b[0m",
      "\u001b[0;31mHTTPError\u001b[0m                                 Traceback (most recent call last)",
      "\u001b[0;32m/tmp/ipykernel_24441/1629900068.py\u001b[0m in \u001b[0;36m<module>\u001b[0;34m\u001b[0m\n\u001b[1;32m     89\u001b[0m \u001b[0;34m\u001b[0m\u001b[0m\n\u001b[1;32m     90\u001b[0m \u001b[0;32mwhile\u001b[0m \u001b[0;32mTrue\u001b[0m\u001b[0;34m:\u001b[0m\u001b[0;34m\u001b[0m\u001b[0;34m\u001b[0m\u001b[0m\n\u001b[0;32m---> 91\u001b[0;31m     \u001b[0mgustos\u001b[0m\u001b[0;34m(\u001b[0m\u001b[0;34m)\u001b[0m\u001b[0;34m\u001b[0m\u001b[0;34m\u001b[0m\u001b[0m\n\u001b[0m",
      "\u001b[0;32m/tmp/ipykernel_24441/1629900068.py\u001b[0m in \u001b[0;36mgustos\u001b[0;34m()\u001b[0m\n\u001b[1;32m     43\u001b[0m \u001b[0;32mdef\u001b[0m \u001b[0mgustos\u001b[0m\u001b[0;34m(\u001b[0m\u001b[0;34m)\u001b[0m\u001b[0;34m:\u001b[0m\u001b[0;34m\u001b[0m\u001b[0;34m\u001b[0m\u001b[0m\n\u001b[1;32m     44\u001b[0m     \u001b[0musuario_entrada\u001b[0m \u001b[0;34m=\u001b[0m \u001b[0minput\u001b[0m\u001b[0;34m(\u001b[0m\u001b[0;34m\"> \"\u001b[0m\u001b[0;34m)\u001b[0m\u001b[0;34m\u001b[0m\u001b[0;34m\u001b[0m\u001b[0m\n\u001b[0;32m---> 45\u001b[0;31m     \u001b[0musuario_clasificar\u001b[0m \u001b[0;34m=\u001b[0m \u001b[0mclassify\u001b[0m\u001b[0;34m(\u001b[0m\u001b[0musuario_entrada\u001b[0m\u001b[0;34m)\u001b[0m\u001b[0;34m\u001b[0m\u001b[0;34m\u001b[0m\u001b[0m\n\u001b[0m\u001b[1;32m     46\u001b[0m     \u001b[0musuario_clasificado\u001b[0m \u001b[0;34m=\u001b[0m \u001b[0musuario_clasificar\u001b[0m\u001b[0;34m[\u001b[0m\u001b[0;34m\"class_name\"\u001b[0m\u001b[0;34m]\u001b[0m\u001b[0;34m\u001b[0m\u001b[0;34m\u001b[0m\u001b[0m\n\u001b[1;32m     47\u001b[0m     \u001b[0mfiabilidad\u001b[0m \u001b[0;34m=\u001b[0m \u001b[0musuario_clasificar\u001b[0m\u001b[0;34m[\u001b[0m\u001b[0;34m\"confidence\"\u001b[0m\u001b[0;34m]\u001b[0m\u001b[0;34m\u001b[0m\u001b[0;34m\u001b[0m\u001b[0m\n",
      "\u001b[0;32m/tmp/ipykernel_24441/1629900068.py\u001b[0m in \u001b[0;36mclassify\u001b[0;34m(text)\u001b[0m\n\u001b[1;32m     13\u001b[0m         \u001b[0;32mreturn\u001b[0m \u001b[0mtopMatch\u001b[0m\u001b[0;34m\u001b[0m\u001b[0;34m\u001b[0m\u001b[0m\n\u001b[1;32m     14\u001b[0m     \u001b[0;32melse\u001b[0m\u001b[0;34m:\u001b[0m\u001b[0;34m\u001b[0m\u001b[0;34m\u001b[0m\u001b[0m\n\u001b[0;32m---> 15\u001b[0;31m         \u001b[0mresponse\u001b[0m\u001b[0;34m.\u001b[0m\u001b[0mraise_for_status\u001b[0m\u001b[0;34m(\u001b[0m\u001b[0;34m)\u001b[0m\u001b[0;34m\u001b[0m\u001b[0;34m\u001b[0m\u001b[0m\n\u001b[0m\u001b[1;32m     16\u001b[0m \u001b[0;34m\u001b[0m\u001b[0m\n\u001b[1;32m     17\u001b[0m \u001b[0;32mdef\u001b[0m \u001b[0mstoreTraining\u001b[0m\u001b[0;34m(\u001b[0m\u001b[0mtext\u001b[0m\u001b[0;34m,\u001b[0m \u001b[0mlabel\u001b[0m\u001b[0;34m)\u001b[0m\u001b[0;34m:\u001b[0m\u001b[0;34m\u001b[0m\u001b[0;34m\u001b[0m\u001b[0m\n",
      "\u001b[0;32m~/anaconda3/lib/python3.9/site-packages/requests/models.py\u001b[0m in \u001b[0;36mraise_for_status\u001b[0;34m(self)\u001b[0m\n\u001b[1;32m    938\u001b[0m \u001b[0;34m\u001b[0m\u001b[0m\n\u001b[1;32m    939\u001b[0m         \u001b[0;32mif\u001b[0m \u001b[0mhttp_error_msg\u001b[0m\u001b[0;34m:\u001b[0m\u001b[0;34m\u001b[0m\u001b[0;34m\u001b[0m\u001b[0m\n\u001b[0;32m--> 940\u001b[0;31m             \u001b[0;32mraise\u001b[0m \u001b[0mHTTPError\u001b[0m\u001b[0;34m(\u001b[0m\u001b[0mhttp_error_msg\u001b[0m\u001b[0;34m,\u001b[0m \u001b[0mresponse\u001b[0m\u001b[0;34m=\u001b[0m\u001b[0mself\u001b[0m\u001b[0;34m)\u001b[0m\u001b[0;34m\u001b[0m\u001b[0;34m\u001b[0m\u001b[0m\n\u001b[0m\u001b[1;32m    941\u001b[0m \u001b[0;34m\u001b[0m\u001b[0m\n\u001b[1;32m    942\u001b[0m     \u001b[0;32mdef\u001b[0m \u001b[0mclose\u001b[0m\u001b[0;34m(\u001b[0m\u001b[0mself\u001b[0m\u001b[0;34m)\u001b[0m\u001b[0;34m:\u001b[0m\u001b[0;34m\u001b[0m\u001b[0;34m\u001b[0m\u001b[0m\n",
      "\u001b[0;31mHTTPError\u001b[0m: 400 Client Error: Bad Request for url: https://machinelearningforkids.co.uk/api/scratch/c15dd690-749e-11ec-b689-8174d92278c0b85eb195-6619-4480-a5d2-450c8e865da2/classify?data="
     ]
    }
   ],
   "source": [
    "import requests\n",
    "import random\n",
    "\n",
    "def classify(text):\n",
    "    key = \"c15dd690-749e-11ec-b689-8174d92278c0b85eb195-6619-4480-a5d2-450c8e865da2\"\n",
    "    url = \"https://machinelearningforkids.co.uk/api/scratch/\"+ key + \"/classify\"\n",
    "\n",
    "    response = requests.get(url, params={ \"data\" : text })\n",
    "\n",
    "    if response.ok:\n",
    "        responseData = response.json()\n",
    "        topMatch = responseData[0]\n",
    "        return topMatch\n",
    "    else:\n",
    "        response.raise_for_status()\n",
    "        \n",
    "def storeTraining(text, label):\n",
    "    key = \"c15dd690-749e-11ec-b689-8174d92278c0b85eb195-6619-4480-a5d2-450c8e865da2\"\n",
    "    url = \"https://machinelearningforkids.co.uk/api/scratch/\"+ key + \"/train\"\n",
    "\n",
    "    response = requests.post(url, json={ \"data\" : text, \"label\" : label })\n",
    "\n",
    "    if response.ok == False:\n",
    "        # if something went wrong, display the error\n",
    "        print (response.json())\n",
    "\n",
    "        #\n",
    "# This function will train a new ML model using the current \n",
    "# training examples in your project\n",
    "#\n",
    "# key - API key - the secret code for your ML project \n",
    "#\n",
    "def trainModel():\n",
    "    key = \"c15dd690-749e-11ec-b689-8174d92278c0b85eb195-6619-4480-a5d2-450c8e865da2\"\n",
    "    url = \"https://machinelearningforkids.co.uk/api/scratch/\" + key + \"/models\"\n",
    "\n",
    "    response = requests.post(url)\n",
    "\n",
    "    if response.ok == False:\n",
    "        # if something went wrong, display the error\n",
    "        print (response.json())\n",
    "\n",
    "def gustos():\n",
    "    usuario_entrada = input(\"> \")\n",
    "    usuario_clasificar = classify(usuario_entrada)\n",
    "    usuario_clasificado = usuario_clasificar[\"class_name\"]\n",
    "    fiabilidad = usuario_clasificar[\"confidence\"]\n",
    "    respuesta_bot = \"\"\n",
    "    bot_chat = \"<bot_recomendador> \"\n",
    "    error = 0\n",
    "    contador=1\n",
    "    if fiabilidad < 80:\n",
    "        #respuesta_bot = \"no te he entendido, ¿podrias ser mas concreto?\"\n",
    "        respuesta_bot = \"no te he entendido, ¿a que te refieres, teatro, fiesta, monumentos o gastronomia?\"\n",
    "        error = 1\n",
    "        if error == 1:\n",
    "            print(\"<bot_recomendador> \" + respuesta_bot)\n",
    "        while contador == 1:\n",
    "            etiqueta = input(\" >\")\n",
    "            #respuesta_bot = \"el texto que va aprender es \" + usuario_entrada + \" y la etiqueta donde lo va a meter es \" + etiqueta\n",
    "            storeTraining(usuario_entrada, etiqueta)\n",
    "            print(\"Estoy aprendiendo de nuevo...\")\n",
    "            trainModel()\n",
    "            print(\"leccion aprendida!!\")\n",
    "            respuesta_bot = \"Vale, acabo de aprender que cuando me dices '\" + usuario_entrada + \"' te refieres a \" + etiqueta\n",
    "            contador-=1\n",
    "        \n",
    "    elif usuario_clasificado == \"teatro\":\n",
    "        respuesta_bot = \"creo que te gustaria ir al teatro\" + \" con una probabilidad de \" + str(fiabilidad) + \"%\"\n",
    "    elif usuario_clasificado == \"fiesta\":\n",
    "        respuesta_bot = \"creo que te gustaria ir de fiesta\" + \" con una probabilidad de \" + str(fiabilidad) + \"%\"\n",
    "    elif usuario_clasificado == \"monumentos\":\n",
    "        respuesta_bot = \"creo que te gustaria ver monumentos\" + \" con una probabilidad de \" + str(fiabilidad) + \"%\"\n",
    "    elif usuario_clasificado == \"gastronomia\":\n",
    "        respuesta_bot = \"creo que te gustaria disfrutar de la gastronomia\" + \" con una probabilidad de \" + str(fiabilidad) + \"%\"\n",
    "        \n",
    "    \n",
    "    print(bot_chat + respuesta_bot)\n",
    "    print(usuario_clasificar)\n",
    "    print(usuario_clasificado)\n",
    "    \n",
    "\n",
    "print(\"Hola, soy bot_recomendador, ¿que te gustaria hacer?\")\n",
    "\n",
    "\n",
    "#storeText(key, texto, etiqueta)\n",
    "\n",
    "\n",
    "\n",
    "while True:\n",
    "    gustos()"
   ]
  }
 ],
 "metadata": {
  "interpreter": {
   "hash": "272220f5328ed0d855c22bcb5e14630906443758ba8eac4bbef53c2db8ee576a"
  },
  "kernelspec": {
   "display_name": "Python 3 (ipykernel)",
   "language": "python",
   "name": "python3"
  },
  "language_info": {
   "codemirror_mode": {
    "name": "ipython",
    "version": 3
   },
   "file_extension": ".py",
   "mimetype": "text/x-python",
   "name": "python",
   "nbconvert_exporter": "python",
   "pygments_lexer": "ipython3",
   "version": "3.9.7"
  }
 },
 "nbformat": 4,
 "nbformat_minor": 2
}
