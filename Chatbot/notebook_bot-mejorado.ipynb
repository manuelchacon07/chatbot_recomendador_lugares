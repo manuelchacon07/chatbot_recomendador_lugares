{
 "cells": [
  {
   "cell_type": "markdown",
   "metadata": {},
   "source": [
    "PARTE DE AIML"
   ]
  },
  {
   "cell_type": "markdown",
   "metadata": {},
   "source": [
    "Instalar programy, que es una implementación completa del estándar AIML"
   ]
  },
  {
   "cell_type": "code",
   "execution_count": 1,
   "metadata": {
    "collapsed": true
   },
   "outputs": [
    {
     "name": "stdout",
     "output_type": "stream",
     "text": [
      "Requirement already satisfied: programy in /home/machde/anaconda3/lib/python3.9/site-packages (5.0.1)\n",
      "Requirement already satisfied: slackclient==1.3.1 in /home/machde/anaconda3/lib/python3.9/site-packages (from programy) (1.3.1)\n",
      "Requirement already satisfied: python-telegram-bot==12.0.0 in /home/machde/anaconda3/lib/python3.9/site-packages (from programy) (12.0.0)\n",
      "Requirement already satisfied: APScheduler==3.6.3 in /home/machde/anaconda3/lib/python3.9/site-packages (from programy) (3.6.3)\n",
      "Requirement already satisfied: pymessenger==0.0.7.0 in /home/machde/anaconda3/lib/python3.9/site-packages (from programy) (0.0.7.0)\n",
      "Requirement already satisfied: beautifulsoup4==4.8 in /home/machde/anaconda3/lib/python3.9/site-packages (from programy) (4.8.0)\n",
      "Requirement already satisfied: MetOffer==1.3.2 in /home/machde/anaconda3/lib/python3.9/site-packages (from programy) (1.3.2)\n",
      "Requirement already satisfied: kik==1.5.0 in /home/machde/anaconda3/lib/python3.9/site-packages (from programy) (1.5.0)\n",
      "Requirement already satisfied: pymongo==3.10.0 in /home/machde/anaconda3/lib/python3.9/site-packages (from programy) (3.10.0)\n",
      "Requirement already satisfied: botbuilder-core==4.5.0b4 in /home/machde/anaconda3/lib/python3.9/site-packages (from programy) (4.5.0b4)\n",
      "Requirement already satisfied: Flask-SocketIO==4.2.1 in /home/machde/anaconda3/lib/python3.9/site-packages (from programy) (4.2.1)\n",
      "Requirement already satisfied: tweepy==3.8.0 in /home/machde/anaconda3/lib/python3.9/site-packages (from programy) (3.8.0)\n",
      "Requirement already satisfied: python-dateutil==2.8.1 in /home/machde/anaconda3/lib/python3.9/site-packages (from programy) (2.8.1)\n",
      "Requirement already satisfied: discord.py==1.2.3 in /home/machde/anaconda3/lib/python3.9/site-packages (from programy) (1.2.3)\n",
      "Requirement already satisfied: requests==2.22.0 in /home/machde/anaconda3/lib/python3.9/site-packages (from programy) (2.22.0)\n",
      "Requirement already satisfied: wikipedia==1.4.0 in /home/machde/anaconda3/lib/python3.9/site-packages (from programy) (1.4.0)\n",
      "Requirement already satisfied: viberbot==1.0.11 in /home/machde/anaconda3/lib/python3.9/site-packages (from programy) (1.0.11)\n",
      "Requirement already satisfied: autocorrect==0.4.4 in /home/machde/anaconda3/lib/python3.9/site-packages (from programy) (0.4.4)\n",
      "Requirement already satisfied: textblob==0.15.3 in /home/machde/anaconda3/lib/python3.9/site-packages (from programy) (0.15.3)\n",
      "Requirement already satisfied: sleekxmpp==1.3.3 in /home/machde/anaconda3/lib/python3.9/site-packages (from programy) (1.3.3)\n",
      "Requirement already satisfied: line-bot-sdk==1.15.0 in /home/machde/anaconda3/lib/python3.9/site-packages (from programy) (1.15.0)\n",
      "Requirement already satisfied: redis==3.3.11 in /home/machde/anaconda3/lib/python3.9/site-packages (from programy) (3.3.11)\n",
      "Requirement already satisfied: Flask==1.1.1 in /home/machde/anaconda3/lib/python3.9/site-packages (from programy) (1.1.1)\n",
      "Requirement already satisfied: twilio==6.35.1 in /home/machde/anaconda3/lib/python3.9/site-packages (from programy) (6.35.1)\n",
      "Requirement already satisfied: wget==3.2 in /home/machde/anaconda3/lib/python3.9/site-packages (from programy) (3.2)\n",
      "Requirement already satisfied: emoji==0.5.4 in /home/machde/anaconda3/lib/python3.9/site-packages (from programy) (0.5.4)\n",
      "Requirement already satisfied: lxml==4.6.2 in /home/machde/anaconda3/lib/python3.9/site-packages (from programy) (4.6.2)\n",
      "Requirement already satisfied: PyYAML==5.3b1 in /home/machde/anaconda3/lib/python3.9/site-packages (from programy) (5.3b1)\n",
      "Requirement already satisfied: SQLAlchemy==1.3.12 in /home/machde/anaconda3/lib/python3.9/site-packages (from programy) (1.3.12)\n",
      "Requirement already satisfied: PyMySQL==0.9.3 in /home/machde/anaconda3/lib/python3.9/site-packages (from programy) (0.9.3)\n",
      "Requirement already satisfied: botbuilder-schema>=4.5.0b4 in /home/machde/anaconda3/lib/python3.9/site-packages (from programy) (4.14.0)\n",
      "Requirement already satisfied: tzlocal>=1.2 in /home/machde/anaconda3/lib/python3.9/site-packages (from APScheduler==3.6.3->programy) (4.1)\n",
      "Requirement already satisfied: pytz in /home/machde/anaconda3/lib/python3.9/site-packages (from APScheduler==3.6.3->programy) (2021.3)\n",
      "Requirement already satisfied: six>=1.4.0 in /home/machde/anaconda3/lib/python3.9/site-packages (from APScheduler==3.6.3->programy) (1.10.0)\n",
      "Requirement already satisfied: setuptools>=0.7 in /home/machde/anaconda3/lib/python3.9/site-packages (from APScheduler==3.6.3->programy) (58.0.4)\n",
      "Requirement already satisfied: soupsieve>=1.2 in /home/machde/anaconda3/lib/python3.9/site-packages (from beautifulsoup4==4.8->programy) (2.2.1)\n",
      "Requirement already satisfied: botframework-connector>=4.5.0b4 in /home/machde/anaconda3/lib/python3.9/site-packages (from botbuilder-core==4.5.0b4->programy) (4.9.3)\n",
      "Requirement already satisfied: aiohttp<3.6.0,>=3.3.0 in /home/machde/anaconda3/lib/python3.9/site-packages (from discord.py==1.2.3->programy) (3.5.4)\n",
      "Requirement already satisfied: websockets<7.0,>=6.0 in /home/machde/anaconda3/lib/python3.9/site-packages (from discord.py==1.2.3->programy) (6.0)\n",
      "Requirement already satisfied: Jinja2>=2.10.1 in /home/machde/anaconda3/lib/python3.9/site-packages (from Flask==1.1.1->programy) (2.11.3)\n",
      "Requirement already satisfied: Werkzeug>=0.15 in /home/machde/anaconda3/lib/python3.9/site-packages (from Flask==1.1.1->programy) (2.0.2)\n",
      "Requirement already satisfied: click>=5.1 in /home/machde/anaconda3/lib/python3.9/site-packages (from Flask==1.1.1->programy) (8.0.3)\n",
      "Requirement already satisfied: itsdangerous>=0.24 in /home/machde/anaconda3/lib/python3.9/site-packages (from Flask==1.1.1->programy) (2.0.1)\n",
      "Requirement already satisfied: python-socketio>=4.3.0 in /home/machde/anaconda3/lib/python3.9/site-packages (from Flask-SocketIO==4.2.1->programy) (5.5.0)\n",
      "Requirement already satisfied: future in /home/machde/anaconda3/lib/python3.9/site-packages (from line-bot-sdk==1.15.0->programy) (0.18.2)\n",
      "Requirement already satisfied: requests-toolbelt in /home/machde/anaconda3/lib/python3.9/site-packages (from pymessenger==0.0.7.0->programy) (0.9.1)\n",
      "Requirement already satisfied: tornado>=5.1 in /home/machde/anaconda3/lib/python3.9/site-packages (from python-telegram-bot==12.0.0->programy) (6.1)\n",
      "Requirement already satisfied: cryptography in /home/machde/anaconda3/lib/python3.9/site-packages (from python-telegram-bot==12.0.0->programy) (2.8)\n",
      "Requirement already satisfied: certifi in /home/machde/anaconda3/lib/python3.9/site-packages (from python-telegram-bot==12.0.0->programy) (2021.10.8)\n",
      "Requirement already satisfied: urllib3!=1.25.0,!=1.25.1,<1.26,>=1.21.1 in /home/machde/anaconda3/lib/python3.9/site-packages (from requests==2.22.0->programy) (1.25.11)\n",
      "Requirement already satisfied: chardet<3.1.0,>=3.0.2 in /home/machde/anaconda3/lib/python3.9/site-packages (from requests==2.22.0->programy) (3.0.4)\n",
      "Requirement already satisfied: idna<2.9,>=2.5 in /home/machde/anaconda3/lib/python3.9/site-packages (from requests==2.22.0->programy) (2.8)\n",
      "Requirement already satisfied: websocket-client<0.55.0,>=0.35 in /home/machde/anaconda3/lib/python3.9/site-packages (from slackclient==1.3.1->programy) (0.54.0)\n",
      "Requirement already satisfied: nltk>=3.1 in /home/machde/anaconda3/lib/python3.9/site-packages (from textblob==0.15.3->programy) (3.6.5)\n",
      "Requirement already satisfied: PySocks>=1.5.7 in /home/machde/anaconda3/lib/python3.9/site-packages (from tweepy==3.8.0->programy) (1.7.1)\n",
      "Requirement already satisfied: requests-oauthlib>=0.7.0 in /home/machde/anaconda3/lib/python3.9/site-packages (from tweepy==3.8.0->programy) (1.3.0)\n",
      "Requirement already satisfied: PyJWT>=1.4.2 in /home/machde/anaconda3/lib/python3.9/site-packages (from twilio==6.35.1->programy) (1.5.3)\n",
      "Requirement already satisfied: async-timeout<4.0,>=3.0 in /home/machde/anaconda3/lib/python3.9/site-packages (from aiohttp<3.6.0,>=3.3.0->discord.py==1.2.3->programy) (3.0.1)\n",
      "Requirement already satisfied: yarl<2.0,>=1.0 in /home/machde/anaconda3/lib/python3.9/site-packages (from aiohttp<3.6.0,>=3.3.0->discord.py==1.2.3->programy) (1.7.2)\n",
      "Requirement already satisfied: attrs>=17.3.0 in /home/machde/anaconda3/lib/python3.9/site-packages (from aiohttp<3.6.0,>=3.3.0->discord.py==1.2.3->programy) (21.2.0)\n",
      "Requirement already satisfied: multidict<5.0,>=4.0 in /home/machde/anaconda3/lib/python3.9/site-packages (from aiohttp<3.6.0,>=3.3.0->discord.py==1.2.3->programy) (4.7.6)\n"
     ]
    },
    {
     "name": "stdout",
     "output_type": "stream",
     "text": [
      "Requirement already satisfied: msrest==0.6.10 in /home/machde/anaconda3/lib/python3.9/site-packages (from botbuilder-schema>=4.5.0b4->programy) (0.6.10)\n",
      "Requirement already satisfied: isodate>=0.6.0 in /home/machde/anaconda3/lib/python3.9/site-packages (from msrest==0.6.10->botbuilder-schema>=4.5.0b4->programy) (0.6.1)\n",
      "Requirement already satisfied: adal==1.2.1 in /home/machde/anaconda3/lib/python3.9/site-packages (from botframework-connector>=4.5.0b4->botbuilder-core==4.5.0b4->programy) (1.2.1)\n",
      "Requirement already satisfied: msal==1.2.0 in /home/machde/anaconda3/lib/python3.9/site-packages (from botframework-connector>=4.5.0b4->botbuilder-core==4.5.0b4->programy) (1.2.0)\n",
      "Requirement already satisfied: cffi!=1.11.3,>=1.8 in /home/machde/anaconda3/lib/python3.9/site-packages (from cryptography->python-telegram-bot==12.0.0->programy) (1.14.6)\n",
      "Requirement already satisfied: pycparser in /home/machde/anaconda3/lib/python3.9/site-packages (from cffi!=1.11.3,>=1.8->cryptography->python-telegram-bot==12.0.0->programy) (2.20)\n",
      "Requirement already satisfied: MarkupSafe>=0.23 in /home/machde/anaconda3/lib/python3.9/site-packages (from Jinja2>=2.10.1->Flask==1.1.1->programy) (1.1.1)\n",
      "Requirement already satisfied: joblib in /home/machde/anaconda3/lib/python3.9/site-packages (from nltk>=3.1->textblob==0.15.3->programy) (1.1.0)\n",
      "Requirement already satisfied: regex>=2021.8.3 in /home/machde/anaconda3/lib/python3.9/site-packages (from nltk>=3.1->textblob==0.15.3->programy) (2021.8.3)\n",
      "Requirement already satisfied: tqdm in /home/machde/anaconda3/lib/python3.9/site-packages (from nltk>=3.1->textblob==0.15.3->programy) (4.62.3)\n",
      "Requirement already satisfied: python-engineio>=4.3.0 in /home/machde/anaconda3/lib/python3.9/site-packages (from python-socketio>=4.3.0->Flask-SocketIO==4.2.1->programy) (4.3.0)\n",
      "Requirement already satisfied: bidict>=0.21.0 in /home/machde/anaconda3/lib/python3.9/site-packages (from python-socketio>=4.3.0->Flask-SocketIO==4.2.1->programy) (0.21.4)\n",
      "Requirement already satisfied: oauthlib>=3.0.0 in /home/machde/anaconda3/lib/python3.9/site-packages (from requests-oauthlib>=0.7.0->tweepy==3.8.0->programy) (3.1.1)\n",
      "Requirement already satisfied: pytz-deprecation-shim in /home/machde/anaconda3/lib/python3.9/site-packages (from tzlocal>=1.2->APScheduler==3.6.3->programy) (0.1.0.post0)\n",
      "Requirement already satisfied: tzdata in /home/machde/anaconda3/lib/python3.9/site-packages (from pytz-deprecation-shim->tzlocal>=1.2->APScheduler==3.6.3->programy) (2021.5)\n",
      "Note: you may need to restart the kernel to use updated packages.\n"
     ]
    }
   ],
   "source": [
    "pip install programy"
   ]
  },
  {
   "cell_type": "markdown",
   "metadata": {},
   "source": [
    "Utilizaremos EmbeddedDataFileBot, un bot que permite cargar la base de conocimiento desde archivos AIML externos"
   ]
  },
  {
   "cell_type": "code",
   "execution_count": 2,
   "metadata": {},
   "outputs": [],
   "source": [
    "from programy.clients.embed.datafile import EmbeddedDataFileBot"
   ]
  },
  {
   "cell_type": "markdown",
   "metadata": {},
   "source": [
    "En el argumento 'files' del constructor se indica el nombre del directorio donde están los archivos con extensión .aiml que va a cargar"
   ]
  },
  {
   "cell_type": "code",
   "execution_count": 3,
   "metadata": {},
   "outputs": [],
   "source": [
    "chatbot = EmbeddedDataFileBot(files={'aiml': 'recomendador_sitios.aiml'}, defaults=True)"
   ]
  },
  {
   "cell_type": "markdown",
   "metadata": {},
   "source": [
    "Accedemos al bot creando un bucle"
   ]
  },
  {
   "cell_type": "code",
   "execution_count": 10,
   "metadata": {
    "collapsed": true
   },
   "outputs": [
    {
     "name": "stdout",
     "output_type": "stream",
     "text": [
      ">hola\n",
      "Hola, ¿Como te llamas?\n",
      ">me llamo manuel\n",
      "Encantado de conocerte manuel, yo me llamo bot_recomendador, ¿que te gustaria\n",
      "hacer?\n",
      ">me gustaria ir de fiesta\n",
      "Mmm.. con que te gustaria ir de fiesta.... ¿y que genero te gusta?\n",
      ">me gusta el pop\n",
      "Pues te recomiendo que visites la discoteca Sala Newman.\n",
      ">y cual es la direccion\n",
      "La direccion es \"Avenida de Finlandia, 1,41012 Sevilla\" y este es su numero de\n",
      "telefono \"676681412\".\n",
      ">y donde esta?\n",
      "None\n"
     ]
    }
   ],
   "source": [
    "try:\n",
    "    while True:\n",
    "        print (chatbot.ask_question(input('>')))\n",
    "except:\n",
    "    pass"
   ]
  },
  {
   "cell_type": "markdown",
   "metadata": {},
   "source": [
    "################################################################################################################################################################################################"
   ]
  },
  {
   "cell_type": "markdown",
   "metadata": {},
   "source": [
    "PARTE DE ML"
   ]
  },
  {
   "cell_type": "markdown",
   "metadata": {},
   "source": [
    "instalamos requests"
   ]
  },
  {
   "cell_type": "code",
   "execution_count": 2,
   "metadata": {},
   "outputs": [
    {
     "name": "stdout",
     "output_type": "stream",
     "text": [
      "Requirement already satisfied: requests in /home/machde/anaconda3/lib/python3.9/site-packages (2.22.0)\n",
      "Requirement already satisfied: certifi>=2017.4.17 in /home/machde/anaconda3/lib/python3.9/site-packages (from requests) (2021.10.8)\n",
      "Requirement already satisfied: chardet<3.1.0,>=3.0.2 in /home/machde/anaconda3/lib/python3.9/site-packages (from requests) (3.0.4)\n",
      "Requirement already satisfied: urllib3!=1.25.0,!=1.25.1,<1.26,>=1.21.1 in /home/machde/anaconda3/lib/python3.9/site-packages (from requests) (1.25.11)\n",
      "Requirement already satisfied: idna<2.9,>=2.5 in /home/machde/anaconda3/lib/python3.9/site-packages (from requests) (2.8)\n",
      "Note: you may need to restart the kernel to use updated packages.\n"
     ]
    }
   ],
   "source": [
    "pip install requests"
   ]
  },
  {
   "cell_type": "code",
   "execution_count": 13,
   "metadata": {
    "collapsed": true
   },
   "outputs": [
    {
     "name": "stdout",
     "output_type": "stream",
     "text": [
      "Hola, soy bot_recomendador, ¿que te gustaria hacer?\n"
     ]
    },
    {
     "ename": "KeyboardInterrupt",
     "evalue": "Interrupted by user",
     "output_type": "error",
     "traceback": [
      "\u001b[0;31m---------------------------------------------------------------------------\u001b[0m",
      "\u001b[0;31mKeyboardInterrupt\u001b[0m                         Traceback (most recent call last)",
      "\u001b[0;32m/tmp/ipykernel_78720/2950788987.py\u001b[0m in \u001b[0;36m<module>\u001b[0;34m\u001b[0m\n\u001b[1;32m     90\u001b[0m \u001b[0;34m\u001b[0m\u001b[0m\n\u001b[1;32m     91\u001b[0m \u001b[0;32mwhile\u001b[0m \u001b[0;32mTrue\u001b[0m\u001b[0;34m:\u001b[0m\u001b[0;34m\u001b[0m\u001b[0;34m\u001b[0m\u001b[0m\n\u001b[0;32m---> 92\u001b[0;31m     \u001b[0mgustos\u001b[0m\u001b[0;34m(\u001b[0m\u001b[0;34m)\u001b[0m\u001b[0;34m\u001b[0m\u001b[0;34m\u001b[0m\u001b[0m\n\u001b[0m",
      "\u001b[0;32m/tmp/ipykernel_78720/2950788987.py\u001b[0m in \u001b[0;36mgustos\u001b[0;34m()\u001b[0m\n\u001b[1;32m     43\u001b[0m \u001b[0;34m\u001b[0m\u001b[0m\n\u001b[1;32m     44\u001b[0m \u001b[0;32mdef\u001b[0m \u001b[0mgustos\u001b[0m\u001b[0;34m(\u001b[0m\u001b[0;34m)\u001b[0m\u001b[0;34m:\u001b[0m\u001b[0;34m\u001b[0m\u001b[0;34m\u001b[0m\u001b[0m\n\u001b[0;32m---> 45\u001b[0;31m     \u001b[0musuario_entrada\u001b[0m \u001b[0;34m=\u001b[0m \u001b[0minput\u001b[0m\u001b[0;34m(\u001b[0m\u001b[0;34m\"> \"\u001b[0m\u001b[0;34m)\u001b[0m\u001b[0;34m\u001b[0m\u001b[0;34m\u001b[0m\u001b[0m\n\u001b[0m\u001b[1;32m     46\u001b[0m     \u001b[0musuario_clasificar\u001b[0m \u001b[0;34m=\u001b[0m \u001b[0mclassify\u001b[0m\u001b[0;34m(\u001b[0m\u001b[0musuario_entrada\u001b[0m\u001b[0;34m)\u001b[0m\u001b[0;34m\u001b[0m\u001b[0;34m\u001b[0m\u001b[0m\n\u001b[1;32m     47\u001b[0m     \u001b[0musuario_clasificado\u001b[0m \u001b[0;34m=\u001b[0m \u001b[0musuario_clasificar\u001b[0m\u001b[0;34m[\u001b[0m\u001b[0;34m\"class_name\"\u001b[0m\u001b[0;34m]\u001b[0m\u001b[0;34m\u001b[0m\u001b[0;34m\u001b[0m\u001b[0m\n",
      "\u001b[0;32m~/anaconda3/lib/python3.9/site-packages/ipykernel/kernelbase.py\u001b[0m in \u001b[0;36mraw_input\u001b[0;34m(self, prompt)\u001b[0m\n\u001b[1;32m   1004\u001b[0m                 \u001b[0;34m\"raw_input was called, but this frontend does not support input requests.\"\u001b[0m\u001b[0;34m\u001b[0m\u001b[0;34m\u001b[0m\u001b[0m\n\u001b[1;32m   1005\u001b[0m             )\n\u001b[0;32m-> 1006\u001b[0;31m         return self._input_request(\n\u001b[0m\u001b[1;32m   1007\u001b[0m             \u001b[0mstr\u001b[0m\u001b[0;34m(\u001b[0m\u001b[0mprompt\u001b[0m\u001b[0;34m)\u001b[0m\u001b[0;34m,\u001b[0m\u001b[0;34m\u001b[0m\u001b[0;34m\u001b[0m\u001b[0m\n\u001b[1;32m   1008\u001b[0m             \u001b[0mself\u001b[0m\u001b[0;34m.\u001b[0m\u001b[0m_parent_ident\u001b[0m\u001b[0;34m[\u001b[0m\u001b[0;34m\"shell\"\u001b[0m\u001b[0;34m]\u001b[0m\u001b[0;34m,\u001b[0m\u001b[0;34m\u001b[0m\u001b[0;34m\u001b[0m\u001b[0m\n",
      "\u001b[0;32m~/anaconda3/lib/python3.9/site-packages/ipykernel/kernelbase.py\u001b[0m in \u001b[0;36m_input_request\u001b[0;34m(self, prompt, ident, parent, password)\u001b[0m\n\u001b[1;32m   1049\u001b[0m             \u001b[0;32mexcept\u001b[0m \u001b[0mKeyboardInterrupt\u001b[0m\u001b[0;34m:\u001b[0m\u001b[0;34m\u001b[0m\u001b[0;34m\u001b[0m\u001b[0m\n\u001b[1;32m   1050\u001b[0m                 \u001b[0;31m# re-raise KeyboardInterrupt, to truncate traceback\u001b[0m\u001b[0;34m\u001b[0m\u001b[0;34m\u001b[0m\u001b[0m\n\u001b[0;32m-> 1051\u001b[0;31m                 \u001b[0;32mraise\u001b[0m \u001b[0mKeyboardInterrupt\u001b[0m\u001b[0;34m(\u001b[0m\u001b[0;34m\"Interrupted by user\"\u001b[0m\u001b[0;34m)\u001b[0m \u001b[0;32mfrom\u001b[0m \u001b[0;32mNone\u001b[0m\u001b[0;34m\u001b[0m\u001b[0;34m\u001b[0m\u001b[0m\n\u001b[0m\u001b[1;32m   1052\u001b[0m             \u001b[0;32mexcept\u001b[0m \u001b[0mException\u001b[0m\u001b[0;34m:\u001b[0m\u001b[0;34m\u001b[0m\u001b[0;34m\u001b[0m\u001b[0m\n\u001b[1;32m   1053\u001b[0m                 \u001b[0mself\u001b[0m\u001b[0;34m.\u001b[0m\u001b[0mlog\u001b[0m\u001b[0;34m.\u001b[0m\u001b[0mwarning\u001b[0m\u001b[0;34m(\u001b[0m\u001b[0;34m\"Invalid Message:\"\u001b[0m\u001b[0;34m,\u001b[0m \u001b[0mexc_info\u001b[0m\u001b[0;34m=\u001b[0m\u001b[0;32mTrue\u001b[0m\u001b[0;34m)\u001b[0m\u001b[0;34m\u001b[0m\u001b[0;34m\u001b[0m\u001b[0m\n",
      "\u001b[0;31mKeyboardInterrupt\u001b[0m: Interrupted by user"
     ]
    }
   ],
   "source": [
    "import requests\n",
    "import random\n",
    "\n",
    "key = \"c15dd690-749e-11ec-b689-8174d92278c0b85eb195-6619-4480-a5d2-450c8e865da2\"\n",
    "url = \"https://machinelearningforkids.co.uk/api/scratch/\"\n",
    "\n",
    "def classify(text):\n",
    "    \n",
    "    url_c = url + key + \"/classify\"\n",
    "\n",
    "    response = requests.get(url_c, params={ \"data\" : text })\n",
    "\n",
    "    if response.ok:\n",
    "        responseData = response.json()\n",
    "        topMatch = responseData[0]\n",
    "        return topMatch\n",
    "    else:\n",
    "        response.raise_for_status()\n",
    "        \n",
    "def storeTraining(text, label):\n",
    "    url_c = url + key + \"/train\"\n",
    "\n",
    "    response = requests.post(url_c, json={ \"data\" : text, \"label\" : label })\n",
    "\n",
    "    if response.ok == False:\n",
    "        # if something went wrong, display the error\n",
    "        print (response.json())\n",
    "\n",
    "        #\n",
    "# This function will train a new ML model using the current \n",
    "# training examples in your project\n",
    "#\n",
    "# key - API key - the secret code for your ML project \n",
    "#\n",
    "def trainModel():\n",
    "    url_c = url + key + \"/models\"\n",
    "\n",
    "    response = requests.post(url_c)\n",
    "\n",
    "    if response.ok == False:\n",
    "        # if something went wrong, display the error\n",
    "        print (response.json())\n",
    "\n",
    "def gustos():\n",
    "    usuario_entrada = input(\"> \")\n",
    "    usuario_clasificar = classify(usuario_entrada)\n",
    "    usuario_clasificado = usuario_clasificar[\"class_name\"]\n",
    "    fiabilidad = usuario_clasificar[\"confidence\"]\n",
    "    respuesta_bot = \"\"\n",
    "    bot_chat = \"<bot_recomendador> \"\n",
    "    error = 0\n",
    "    contador=1\n",
    "    if fiabilidad < 80:\n",
    "        #respuesta_bot = \"no te he entendido, ¿podrias ser mas concreto?\"\n",
    "        respuesta_bot = \"no te he entendido, ¿a que te refieres, teatro, fiesta, monumentos o gastronomia?\"\n",
    "        error = 1\n",
    "        if error == 1:\n",
    "            print(\"<bot_recomendador> \" + respuesta_bot)\n",
    "        while contador == 1:\n",
    "            etiqueta = input(\" >\")\n",
    "            #respuesta_bot = \"el texto que va aprender es \" + usuario_entrada + \" y la etiqueta donde lo va a meter es \" + etiqueta\n",
    "            storeTraining(usuario_entrada, etiqueta)\n",
    "            print(\"Estoy aprendiendo de nuevo...\")\n",
    "            trainModel()\n",
    "            print(\"leccion aprendida!!\")\n",
    "            respuesta_bot = \"Vale, acabo de aprender que cuando me dices '\" + usuario_entrada + \"' te refieres a \" + etiqueta\n",
    "            contador-=1\n",
    "        \n",
    "    elif usuario_clasificado == \"teatro\":\n",
    "        respuesta_bot = \"creo que te gustaria ir al teatro\" + \" con una probabilidad de \" + str(fiabilidad) + \"%\"\n",
    "    elif usuario_clasificado == \"fiesta\":\n",
    "        respuesta_bot = \"creo que te gustaria ir de fiesta\" + \" con una probabilidad de \" + str(fiabilidad) + \"%\"\n",
    "    elif usuario_clasificado == \"monumentos\":\n",
    "        respuesta_bot = \"creo que te gustaria ver monumentos\" + \" con una probabilidad de \" + str(fiabilidad) + \"%\"\n",
    "    elif usuario_clasificado == \"gastronomia\":\n",
    "        respuesta_bot = \"creo que te gustaria disfrutar de la gastronomia\" + \" con una probabilidad de \" + str(fiabilidad) + \"%\"\n",
    "        \n",
    "    \n",
    "    print(bot_chat + respuesta_bot)\n",
    "    #print(usuario_clasificar)\n",
    "    #print(usuario_clasificado)\n",
    "    \n",
    "\n",
    "print(\"Hola, soy bot_recomendador, ¿que te gustaria hacer?\")\n",
    "\n",
    "\n",
    "#storeText(key, texto, etiqueta)\n",
    "\n",
    "\n",
    "\n",
    "while True:\n",
    "    gustos()"
   ]
  },
  {
   "cell_type": "markdown",
   "metadata": {},
   "source": [
    "###############################################################################################################################################################################################################################################"
   ]
  },
  {
   "cell_type": "markdown",
   "metadata": {},
   "source": [
    "Combinacion de los dos mundos (AIML + ML4K)"
   ]
  },
  {
   "cell_type": "markdown",
   "metadata": {},
   "source": [
    "Instalamos las librerias necesarias"
   ]
  },
  {
   "cell_type": "code",
   "execution_count": 3,
   "metadata": {},
   "outputs": [
    {
     "name": "stdout",
     "output_type": "stream",
     "text": [
      "Requirement already satisfied: programy in /home/machde/anaconda3/lib/python3.9/site-packages (5.0.1)\n",
      "Requirement already satisfied: requests in /home/machde/anaconda3/lib/python3.9/site-packages (2.22.0)\n",
      "Requirement already satisfied: Flask==1.1.1 in /home/machde/anaconda3/lib/python3.9/site-packages (from programy) (1.1.1)\n",
      "Requirement already satisfied: pymessenger==0.0.7.0 in /home/machde/anaconda3/lib/python3.9/site-packages (from programy) (0.0.7.0)\n",
      "Requirement already satisfied: textblob==0.15.3 in /home/machde/anaconda3/lib/python3.9/site-packages (from programy) (0.15.3)\n",
      "Requirement already satisfied: python-dateutil==2.8.1 in /home/machde/anaconda3/lib/python3.9/site-packages (from programy) (2.8.1)\n",
      "Requirement already satisfied: tweepy==3.8.0 in /home/machde/anaconda3/lib/python3.9/site-packages (from programy) (3.8.0)\n",
      "Requirement already satisfied: APScheduler==3.6.3 in /home/machde/anaconda3/lib/python3.9/site-packages (from programy) (3.6.3)\n",
      "Requirement already satisfied: wget==3.2 in /home/machde/anaconda3/lib/python3.9/site-packages (from programy) (3.2)\n",
      "Requirement already satisfied: lxml==4.6.2 in /home/machde/anaconda3/lib/python3.9/site-packages (from programy) (4.6.2)\n",
      "Requirement already satisfied: redis==3.3.11 in /home/machde/anaconda3/lib/python3.9/site-packages (from programy) (3.3.11)\n",
      "Requirement already satisfied: PyMySQL==0.9.3 in /home/machde/anaconda3/lib/python3.9/site-packages (from programy) (0.9.3)\n",
      "Requirement already satisfied: emoji==0.5.4 in /home/machde/anaconda3/lib/python3.9/site-packages (from programy) (0.5.4)\n",
      "Requirement already satisfied: botbuilder-schema>=4.5.0b4 in /home/machde/anaconda3/lib/python3.9/site-packages (from programy) (4.14.0)\n",
      "Requirement already satisfied: python-telegram-bot==12.0.0 in /home/machde/anaconda3/lib/python3.9/site-packages (from programy) (12.0.0)\n",
      "Requirement already satisfied: botbuilder-core==4.5.0b4 in /home/machde/anaconda3/lib/python3.9/site-packages (from programy) (4.5.0b4)\n",
      "Requirement already satisfied: viberbot==1.0.11 in /home/machde/anaconda3/lib/python3.9/site-packages (from programy) (1.0.11)\n",
      "Requirement already satisfied: pymongo==3.10.0 in /home/machde/anaconda3/lib/python3.9/site-packages (from programy) (3.10.0)\n",
      "Requirement already satisfied: twilio==6.35.1 in /home/machde/anaconda3/lib/python3.9/site-packages (from programy) (6.35.1)\n",
      "Requirement already satisfied: SQLAlchemy==1.3.12 in /home/machde/anaconda3/lib/python3.9/site-packages (from programy) (1.3.12)\n",
      "Requirement already satisfied: line-bot-sdk==1.15.0 in /home/machde/anaconda3/lib/python3.9/site-packages (from programy) (1.15.0)\n",
      "Requirement already satisfied: Flask-SocketIO==4.2.1 in /home/machde/anaconda3/lib/python3.9/site-packages (from programy) (4.2.1)\n",
      "Requirement already satisfied: sleekxmpp==1.3.3 in /home/machde/anaconda3/lib/python3.9/site-packages (from programy) (1.3.3)\n",
      "Requirement already satisfied: autocorrect==0.4.4 in /home/machde/anaconda3/lib/python3.9/site-packages (from programy) (0.4.4)\n",
      "Requirement already satisfied: MetOffer==1.3.2 in /home/machde/anaconda3/lib/python3.9/site-packages (from programy) (1.3.2)\n",
      "Requirement already satisfied: beautifulsoup4==4.8 in /home/machde/anaconda3/lib/python3.9/site-packages (from programy) (4.8.0)\n",
      "Requirement already satisfied: PyYAML==5.3b1 in /home/machde/anaconda3/lib/python3.9/site-packages (from programy) (5.3b1)\n",
      "Requirement already satisfied: wikipedia==1.4.0 in /home/machde/anaconda3/lib/python3.9/site-packages (from programy) (1.4.0)\n",
      "Requirement already satisfied: kik==1.5.0 in /home/machde/anaconda3/lib/python3.9/site-packages (from programy) (1.5.0)\n",
      "Requirement already satisfied: discord.py==1.2.3 in /home/machde/anaconda3/lib/python3.9/site-packages (from programy) (1.2.3)\n",
      "Requirement already satisfied: slackclient==1.3.1 in /home/machde/anaconda3/lib/python3.9/site-packages (from programy) (1.3.1)\n",
      "Requirement already satisfied: urllib3!=1.25.0,!=1.25.1,<1.26,>=1.21.1 in /home/machde/anaconda3/lib/python3.9/site-packages (from requests) (1.25.11)\n",
      "Requirement already satisfied: idna<2.9,>=2.5 in /home/machde/anaconda3/lib/python3.9/site-packages (from requests) (2.8)\n",
      "Requirement already satisfied: certifi>=2017.4.17 in /home/machde/anaconda3/lib/python3.9/site-packages (from requests) (2021.10.8)\n",
      "Requirement already satisfied: chardet<3.1.0,>=3.0.2 in /home/machde/anaconda3/lib/python3.9/site-packages (from requests) (3.0.4)\n",
      "Requirement already satisfied: pytz in /home/machde/anaconda3/lib/python3.9/site-packages (from APScheduler==3.6.3->programy) (2021.3)\n",
      "Requirement already satisfied: setuptools>=0.7 in /home/machde/anaconda3/lib/python3.9/site-packages (from APScheduler==3.6.3->programy) (58.0.4)\n",
      "Requirement already satisfied: six>=1.4.0 in /home/machde/anaconda3/lib/python3.9/site-packages (from APScheduler==3.6.3->programy) (1.10.0)\n",
      "Requirement already satisfied: tzlocal>=1.2 in /home/machde/anaconda3/lib/python3.9/site-packages (from APScheduler==3.6.3->programy) (4.1)\n",
      "Requirement already satisfied: soupsieve>=1.2 in /home/machde/anaconda3/lib/python3.9/site-packages (from beautifulsoup4==4.8->programy) (2.2.1)\n",
      "Requirement already satisfied: botframework-connector>=4.5.0b4 in /home/machde/anaconda3/lib/python3.9/site-packages (from botbuilder-core==4.5.0b4->programy) (4.9.3)\n",
      "Requirement already satisfied: aiohttp<3.6.0,>=3.3.0 in /home/machde/anaconda3/lib/python3.9/site-packages (from discord.py==1.2.3->programy) (3.5.4)\n",
      "Requirement already satisfied: websockets<7.0,>=6.0 in /home/machde/anaconda3/lib/python3.9/site-packages (from discord.py==1.2.3->programy) (6.0)\n",
      "Requirement already satisfied: Jinja2>=2.10.1 in /home/machde/anaconda3/lib/python3.9/site-packages (from Flask==1.1.1->programy) (2.11.3)\n",
      "Requirement already satisfied: itsdangerous>=0.24 in /home/machde/anaconda3/lib/python3.9/site-packages (from Flask==1.1.1->programy) (2.0.1)\n",
      "Requirement already satisfied: click>=5.1 in /home/machde/anaconda3/lib/python3.9/site-packages (from Flask==1.1.1->programy) (8.0.3)\n",
      "Requirement already satisfied: Werkzeug>=0.15 in /home/machde/anaconda3/lib/python3.9/site-packages (from Flask==1.1.1->programy) (2.0.2)\n",
      "Requirement already satisfied: python-socketio>=4.3.0 in /home/machde/anaconda3/lib/python3.9/site-packages (from Flask-SocketIO==4.2.1->programy) (5.5.0)\n",
      "Requirement already satisfied: future in /home/machde/anaconda3/lib/python3.9/site-packages (from line-bot-sdk==1.15.0->programy) (0.18.2)\n",
      "Requirement already satisfied: requests-toolbelt in /home/machde/anaconda3/lib/python3.9/site-packages (from pymessenger==0.0.7.0->programy) (0.9.1)\n",
      "Requirement already satisfied: cryptography in /home/machde/anaconda3/lib/python3.9/site-packages (from python-telegram-bot==12.0.0->programy) (2.8)\n",
      "Requirement already satisfied: tornado>=5.1 in /home/machde/anaconda3/lib/python3.9/site-packages (from python-telegram-bot==12.0.0->programy) (6.1)\n",
      "Requirement already satisfied: websocket-client<0.55.0,>=0.35 in /home/machde/anaconda3/lib/python3.9/site-packages (from slackclient==1.3.1->programy) (0.54.0)\n",
      "Requirement already satisfied: nltk>=3.1 in /home/machde/anaconda3/lib/python3.9/site-packages (from textblob==0.15.3->programy) (3.6.5)\n",
      "Requirement already satisfied: requests-oauthlib>=0.7.0 in /home/machde/anaconda3/lib/python3.9/site-packages (from tweepy==3.8.0->programy) (1.3.0)\n",
      "Requirement already satisfied: PySocks>=1.5.7 in /home/machde/anaconda3/lib/python3.9/site-packages (from tweepy==3.8.0->programy) (1.7.1)\n",
      "Requirement already satisfied: PyJWT>=1.4.2 in /home/machde/anaconda3/lib/python3.9/site-packages (from twilio==6.35.1->programy) (1.5.3)\n",
      "Requirement already satisfied: async-timeout<4.0,>=3.0 in /home/machde/anaconda3/lib/python3.9/site-packages (from aiohttp<3.6.0,>=3.3.0->discord.py==1.2.3->programy) (3.0.1)\n",
      "Requirement already satisfied: attrs>=17.3.0 in /home/machde/anaconda3/lib/python3.9/site-packages (from aiohttp<3.6.0,>=3.3.0->discord.py==1.2.3->programy) (21.2.0)\n",
      "Requirement already satisfied: yarl<2.0,>=1.0 in /home/machde/anaconda3/lib/python3.9/site-packages (from aiohttp<3.6.0,>=3.3.0->discord.py==1.2.3->programy) (1.7.2)\n",
      "Requirement already satisfied: multidict<5.0,>=4.0 in /home/machde/anaconda3/lib/python3.9/site-packages (from aiohttp<3.6.0,>=3.3.0->discord.py==1.2.3->programy) (4.7.6)\n"
     ]
    },
    {
     "name": "stdout",
     "output_type": "stream",
     "text": [
      "Requirement already satisfied: msrest==0.6.10 in /home/machde/anaconda3/lib/python3.9/site-packages (from botbuilder-schema>=4.5.0b4->programy) (0.6.10)\n",
      "Requirement already satisfied: isodate>=0.6.0 in /home/machde/anaconda3/lib/python3.9/site-packages (from msrest==0.6.10->botbuilder-schema>=4.5.0b4->programy) (0.6.1)\n",
      "Requirement already satisfied: adal==1.2.1 in /home/machde/anaconda3/lib/python3.9/site-packages (from botframework-connector>=4.5.0b4->botbuilder-core==4.5.0b4->programy) (1.2.1)\n",
      "Requirement already satisfied: msal==1.2.0 in /home/machde/anaconda3/lib/python3.9/site-packages (from botframework-connector>=4.5.0b4->botbuilder-core==4.5.0b4->programy) (1.2.0)\n",
      "Requirement already satisfied: cffi!=1.11.3,>=1.8 in /home/machde/anaconda3/lib/python3.9/site-packages (from cryptography->python-telegram-bot==12.0.0->programy) (1.14.6)\n",
      "Requirement already satisfied: pycparser in /home/machde/anaconda3/lib/python3.9/site-packages (from cffi!=1.11.3,>=1.8->cryptography->python-telegram-bot==12.0.0->programy) (2.20)\n",
      "Requirement already satisfied: MarkupSafe>=0.23 in /home/machde/anaconda3/lib/python3.9/site-packages (from Jinja2>=2.10.1->Flask==1.1.1->programy) (1.1.1)\n",
      "Requirement already satisfied: joblib in /home/machde/anaconda3/lib/python3.9/site-packages (from nltk>=3.1->textblob==0.15.3->programy) (1.1.0)\n",
      "Requirement already satisfied: regex>=2021.8.3 in /home/machde/anaconda3/lib/python3.9/site-packages (from nltk>=3.1->textblob==0.15.3->programy) (2021.8.3)\n",
      "Requirement already satisfied: tqdm in /home/machde/anaconda3/lib/python3.9/site-packages (from nltk>=3.1->textblob==0.15.3->programy) (4.62.3)\n",
      "Requirement already satisfied: bidict>=0.21.0 in /home/machde/anaconda3/lib/python3.9/site-packages (from python-socketio>=4.3.0->Flask-SocketIO==4.2.1->programy) (0.21.4)\n",
      "Requirement already satisfied: python-engineio>=4.3.0 in /home/machde/anaconda3/lib/python3.9/site-packages (from python-socketio>=4.3.0->Flask-SocketIO==4.2.1->programy) (4.3.0)\n",
      "Requirement already satisfied: oauthlib>=3.0.0 in /home/machde/anaconda3/lib/python3.9/site-packages (from requests-oauthlib>=0.7.0->tweepy==3.8.0->programy) (3.1.1)\n",
      "Requirement already satisfied: pytz-deprecation-shim in /home/machde/anaconda3/lib/python3.9/site-packages (from tzlocal>=1.2->APScheduler==3.6.3->programy) (0.1.0.post0)\n",
      "Requirement already satisfied: tzdata in /home/machde/anaconda3/lib/python3.9/site-packages (from pytz-deprecation-shim->tzlocal>=1.2->APScheduler==3.6.3->programy) (2021.5)\n",
      "Note: you may need to restart the kernel to use updated packages.\n"
     ]
    }
   ],
   "source": [
    "pip install programy requests"
   ]
  },
  {
   "cell_type": "markdown",
   "metadata": {},
   "source": [
    "Preparamos nuestro chatbot de AIML"
   ]
  },
  {
   "cell_type": "code",
   "execution_count": 4,
   "metadata": {},
   "outputs": [],
   "source": [
    "from programy.clients.embed.datafile import EmbeddedDataFileBot\n",
    "chatbot = EmbeddedDataFileBot(files={'aiml': 'recomendador_sitios_mejorado.aiml'}, defaults=True)"
   ]
  },
  {
   "cell_type": "markdown",
   "metadata": {},
   "source": [
    "Por ultimo combinamos ambas tecnicas"
   ]
  },
  {
   "cell_type": "code",
   "execution_count": null,
   "metadata": {},
   "outputs": [
    {
     "name": "stdout",
     "output_type": "stream",
     "text": [
      "Hola, soy bot_recomendador, ¿que te gustaria hacer?\n",
      "> me gustaria comer\n",
      "Mmm.. con que te gusta la gastronomia.... ¿y que tipo de comida te gusta?\n",
      "> me gusta el pescado\n",
      "Pues te recomiendo que comas en El Espigon.\n",
      "> y cual es la direccion?\n",
      "La direccion es \"C. Bogotá, 1,41013 Sevilla\" y este es su numero de telefono\n",
      "\"954626851\".\n",
      "> me gusta las gambas\n",
      "<bot_recomendador> no te he entendido, ¿a que te refieres, teatro, fiesta, monumentos, gastronomia, saludo, presentacion, comedia, drama, musical, pop, rock, regueton, gotico, barroco, romano, desenlace, carne, pescado o postres?\n",
      " >pescado\n",
      "Estoy aprendiendo de nuevo...\n",
      "leccion aprendida!!\n",
      "> me gustaria comer pescado\n",
      "Mmm.. con que te gusta la gastronomia.... ¿y que tipo de comida te gusta?\n",
      "> me gustaria unas gambas\n"
     ]
    }
   ],
   "source": [
    "import requests\n",
    "import random\n",
    "\n",
    "key = \"23611330-7b74-11ec-ac78-3d4d8310fc4dccb74286-c7a7-46a0-83b0-2f28d9dbbb9c\"\n",
    "url = \"https://machinelearningforkids.co.uk/api/scratch/\"\n",
    "\n",
    "def classify(text):\n",
    "    url_c = url + key + \"/classify\"\n",
    "\n",
    "    response = requests.get(url_c, params={ \"data\" : text })\n",
    "\n",
    "    if response.ok:\n",
    "        responseData = response.json()\n",
    "        topMatch = responseData[0]\n",
    "        return topMatch\n",
    "    else:\n",
    "        response.raise_for_status()\n",
    "        \n",
    "def storeTraining(text, label):\n",
    "    url_c = url + key + \"/train\"\n",
    "\n",
    "    response = requests.post(url_c, json={ \"data\" : text, \"label\" : label })\n",
    "\n",
    "    if response.ok == False:\n",
    "        print (response.json())\n",
    "\n",
    "def trainModel():\n",
    "    url_c = url + key + \"/models\"\n",
    "\n",
    "    response = requests.post(url_c)\n",
    "\n",
    "    if response.ok == False:\n",
    "        print (response.json())\n",
    "\n",
    "def gustos():\n",
    "    usuario_entrada = input(\"> \")\n",
    "    usuario_clasificar = classify(usuario_entrada)\n",
    "    usuario_clasificado = usuario_clasificar[\"class_name\"]\n",
    "    fiabilidad = usuario_clasificar[\"confidence\"]\n",
    "    respuesta_bot = \"\"\n",
    "    bot_chat = \"<bot_recomendador> \"\n",
    "    error = 0\n",
    "    contador=1\n",
    "    if fiabilidad < 80:\n",
    "        respuesta_bot = \"no te he entendido, ¿a que te refieres, teatro, fiesta, monumentos, gastronomia, saludo, presentacion, comedia, drama, musical, pop, rock, regueton, gotico, barroco, romano, desenlace, carne, pescado o postres?\"\n",
    "        error = 1\n",
    "        if error == 1:\n",
    "            print(\"<bot_recomendador> \" + respuesta_bot)\n",
    "        while contador == 1:\n",
    "            etiqueta = input(\" >\")\n",
    "            storeTraining(usuario_entrada, etiqueta)\n",
    "            print(\"Estoy aprendiendo de nuevo...\")\n",
    "            trainModel()\n",
    "            print(\"leccion aprendida!!\")\n",
    "            respuesta_bot = \"Vale, acabo de aprender que cuando me dices '\" + usuario_entrada + \"' te refieres a \" + etiqueta\n",
    "            contador-=1\n",
    "    else:\n",
    "        print (chatbot.ask_question(usuario_clasificado))\n",
    "    \n",
    "    # print(bot_chat + respuesta_bot)\n",
    "    \n",
    "print(\"Hola, soy bot_recomendador, ¿que te gustaria hacer?\")\n",
    "\n",
    "\n",
    "try:\n",
    "    while True:\n",
    "        gustos()\n",
    "except:\n",
    "    pass  "
   ]
  },
  {
   "cell_type": "code",
   "execution_count": null,
   "metadata": {},
   "outputs": [],
   "source": []
  },
  {
   "cell_type": "code",
   "execution_count": null,
   "metadata": {},
   "outputs": [],
   "source": []
  }
 ],
 "metadata": {
  "interpreter": {
   "hash": "272220f5328ed0d855c22bcb5e14630906443758ba8eac4bbef53c2db8ee576a"
  },
  "kernelspec": {
   "display_name": "Python 3 (ipykernel)",
   "language": "python",
   "name": "python3"
  },
  "language_info": {
   "codemirror_mode": {
    "name": "ipython",
    "version": 3
   },
   "file_extension": ".py",
   "mimetype": "text/x-python",
   "name": "python",
   "nbconvert_exporter": "python",
   "pygments_lexer": "ipython3",
   "version": "3.9.7"
  }
 },
 "nbformat": 4,
 "nbformat_minor": 2
}
